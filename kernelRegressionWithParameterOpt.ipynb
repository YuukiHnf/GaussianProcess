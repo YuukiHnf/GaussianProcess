{
  "nbformat": 4,
  "nbformat_minor": 0,
  "metadata": {
    "colab": {
      "name": "kernelRegressionWithParameterOpt.ipynb",
      "provenance": [],
      "collapsed_sections": [],
      "authorship_tag": "ABX9TyMOSFXxY/6NQlFKOvWw2/09",
      "include_colab_link": true
    },
    "kernelspec": {
      "name": "python3",
      "display_name": "Python 3"
    }
  },
  "cells": [
    {
      "cell_type": "markdown",
      "metadata": {
        "id": "view-in-github",
        "colab_type": "text"
      },
      "source": [
        "<a href=\"https://colab.research.google.com/github/YuukiHnf/GaussianProcess/blob/main/kernelRegressionWithParameterOpt.ipynb\" target=\"_parent\"><img src=\"https://colab.research.google.com/assets/colab-badge.svg\" alt=\"Open In Colab\"/></a>"
      ]
    },
    {
      "cell_type": "code",
      "metadata": {
        "id": "k9SQX2pxmTNd"
      },
      "source": [
        "import torch\r\n",
        "import torch.distributions as dist\r\n",
        "import numpy as np\r\n",
        "import matplotlib.pyplot as plt\r\n",
        "import torch.nn as nn"
      ],
      "execution_count": null,
      "outputs": []
    },
    {
      "cell_type": "code",
      "metadata": {
        "id": "JzpqYjrjnCcZ"
      },
      "source": [
        "class KernelRegresson(nn.Module):\r\n",
        "  def __init__(self, kernel, x_train, y_train):\r\n",
        "    self.kernel = kernel\r\n",
        "    self.x_train = x_train.clone()\r\n",
        "    self.y_train = y_train.clone() - y_train.mean()\r\n",
        "    self.y_mean = y_train.mean().clone()\r\n",
        "    self.N = len(x_train)\r\n",
        "    self.K = torch.tensor(\r\n",
        "        np.array([ kernel(xi,xj) for xi in self.x_train for xj in self.x_train]).reshape(self.N,self.N)\r\n",
        "        , dtype=torch.float32)\r\n",
        "    self.K.require_grad = True\r\n",
        "    self.K_inv = torch.inverse(self.K)\r\n",
        "    self.yy = self.K_inv.mv(self.y_train)\r\n",
        "\r\n",
        "  def predict(self, x_test):\r\n",
        "    k_ = torch.from_numpy(np.array([[ self.kernel(x, x_test) for x in self.x_train ]])).float().reshape(self.N)\r\n",
        "    k__ = torch.tensor(self.kernel(x_test, x_test))\r\n",
        "    mu = k_.dot(self.yy)\r\n",
        "    sig = k__ - k_.dot( self.K_inv.mv(k_) )\r\n",
        "    return [mu+self.y_mean, sig]"
      ],
      "execution_count": null,
      "outputs": []
    },
    {
      "cell_type": "code",
      "metadata": {
        "colab": {
          "base_uri": "https://localhost:8080/",
          "height": 285
        },
        "id": "s01Q_hjuqj6B",
        "outputId": "cde173d4-5d3a-404d-f736-74db98ca6ac5"
      },
      "source": [
        "x_train = torch.tensor([-0.5,0.5,1,1.4,3,2.3,2.5\t,1.5,1.1,0.7])\r\n",
        "y_train = torch.tensor([0.7,1.8,1.7,\t2.3,1,\t0,\t0.2,\t2,\t2.4,1.5])\r\n",
        "plt.style.use('ggplot')\r\n",
        "plt.scatter(x_train, y_train)"
      ],
      "execution_count": null,
      "outputs": [
        {
          "output_type": "execute_result",
          "data": {
            "text/plain": [
              "<matplotlib.collections.PathCollection at 0x7f99f10261d0>"
            ]
          },
          "metadata": {
            "tags": []
          },
          "execution_count": 3
        },
        {
          "output_type": "display_data",
          "data": {
            "image/png": "[encoded data removed]",
            "text/plain": [
              "<Figure size 432x288 with 1 Axes>"
            ]
          },
          "metadata": {
            "tags": []
          }
        }
      ]
    },
    {
      "cell_type": "code",
      "metadata": {
        "id": "hxEpw_3HrmKh"
      },
      "source": [
        "def kgauss(xi,xj,theta1=1.0, theta2=0.4, theta3=0.1):\r\n",
        "  return torch.tensor( theta1 * torch.exp(- (xi - xj)*(xi - xj) / theta2 ) ) + theta3*(xi == xj)"
      ],
      "execution_count": null,
      "outputs": []
    },
    {
      "cell_type": "code",
      "metadata": {
        "colab": {
          "base_uri": "https://localhost:8080/"
        },
        "id": "5nPrhYG3rf1K",
        "outputId": "a4da5fc4-1136-4d59-e1b0-36c38c6fdbec"
      },
      "source": [
        "GP = KernelRegresson(kgauss, x_train, y_train)"
      ],
      "execution_count": null,
      "outputs": [
        {
          "output_type": "stream",
          "text": [
            "/usr/local/lib/python3.6/dist-packages/ipykernel_launcher.py:2: UserWarning: To copy construct from a tensor, it is recommended to use sourceTensor.clone().detach() or sourceTensor.clone().detach().requires_grad_(True), rather than torch.tensor(sourceTensor).\n",
            "  \n"
          ],
          "name": "stderr"
        }
      ]
    },
    {
      "cell_type": "code",
      "metadata": {
        "colab": {
          "base_uri": "https://localhost:8080/"
        },
        "id": "FRpnvJKHtV3g",
        "outputId": "7f698474-f3b5-4f14-89b7-7d61133cf2fe"
      },
      "source": [
        "x_index = torch.linspace(-1,4,100)\r\n",
        "pred_mean_std = torch.tensor(np.array([GP.predict(x) for x in x_index]))"
      ],
      "execution_count": null,
      "outputs": [
        {
          "output_type": "stream",
          "text": [
            "/usr/local/lib/python3.6/dist-packages/ipykernel_launcher.py:2: UserWarning: To copy construct from a tensor, it is recommended to use sourceTensor.clone().detach() or sourceTensor.clone().detach().requires_grad_(True), rather than torch.tensor(sourceTensor).\n",
            "  \n",
            "/usr/local/lib/python3.6/dist-packages/ipykernel_launcher.py:17: UserWarning: To copy construct from a tensor, it is recommended to use sourceTensor.clone().detach() or sourceTensor.clone().detach().requires_grad_(True), rather than torch.tensor(sourceTensor).\n"
          ],
          "name": "stderr"
        }
      ]
    },
    {
      "cell_type": "code",
      "metadata": {
        "colab": {
          "base_uri": "https://localhost:8080/"
        },
        "id": "OIA8jaDOzrnC",
        "outputId": "b2f61e71-278f-4243-8782-0ee08ec99701"
      },
      "source": [
        "pred_mean_std.shape"
      ],
      "execution_count": null,
      "outputs": [
        {
          "output_type": "execute_result",
          "data": {
            "text/plain": [
              "torch.Size([100, 2])"
            ]
          },
          "metadata": {
            "tags": []
          },
          "execution_count": 7
        }
      ]
    },
    {
      "cell_type": "code",
      "metadata": {
        "colab": {
          "base_uri": "https://localhost:8080/",
          "height": 282
        },
        "id": "_2X944YIzvy9",
        "outputId": "beded860-401e-44a6-c455-ccc2222055f3"
      },
      "source": [
        "pred_mean = pred_mean_std[:,0]\r\n",
        "pred_std = pred_mean_std[:,1]\r\n",
        "\r\n",
        "plt.scatter(x_train, y_train)\r\n",
        "plt.plot(x_index, pred_mean)\r\n",
        "plt.fill_between(x_index, pred_mean - 2*pred_std, pred_mean + 2*pred_std, alpha=0.2)"
      ],
      "execution_count": null,
      "outputs": [
        {
          "output_type": "execute_result",
          "data": {
            "text/plain": [
              "<matplotlib.collections.PolyCollection at 0x7f99f0b0e780>"
            ]
          },
          "metadata": {
            "tags": []
          },
          "execution_count": 8
        },
        {
          "output_type": "display_data",
          "data": {
            "image/png": "[encoded data removed]",
            "text/plain": [
              "<Figure size 432x288 with 1 Axes>"
            ]
          },
          "metadata": {
            "tags": []
          }
        }
      ]
    },
    {
      "cell_type": "code",
      "metadata": {
        "id": "aIA9UXrY74cj"
      },
      "source": [
        "from numpy.random import multivariate_normal as mvnrand"
      ],
      "execution_count": null,
      "outputs": []
    },
    {
      "cell_type": "code",
      "metadata": {
        "id": "RTgsKGkjY6Yc"
      },
      "source": [
        "from torch.autograd import Variable"
      ],
      "execution_count": null,
      "outputs": []
    },
    {
      "cell_type": "code",
      "metadata": {
        "id": "z9xH4sPu0Udy"
      },
      "source": [
        "class KernelRegresson_paramOpt(nn.Module):\r\n",
        "  def __init__(self, kernel, x_train, y_train):\r\n",
        "    super(KernelRegresson_paramOpt, self).__init__()\r\n",
        "    self.kernel = kernel\r\n",
        "    self.x_train = x_train.clone()\r\n",
        "    self.y_train = y_train.clone() - y_train.mean()\r\n",
        "    self.y_mean = y_train.mean().clone()\r\n",
        "    self.N = len(x_train)\r\n",
        "    self.theta1 = Variable(torch.tensor(1.0), requires_grad=True)\r\n",
        "    self.theta2 = Variable(torch.tensor(0.5), requires_grad=True)\r\n",
        "    self.theta3 = Variable(torch.tensor(0.5), requires_grad=True)\r\n",
        "    print(self.theta1)\r\n",
        "    print(self.theta2)\r\n",
        "    print(self.theta3)\r\n",
        "    self.K = torch.zeros((self.N,self.N))\r\n",
        "    \r\n",
        "\r\n",
        "  def forward(self):\r\n",
        "    self.fit()\r\n",
        "    return dist.multivariate_normal(torch.zeros(self.N), self.K)\r\n",
        "  \r\n",
        "  def log_likelihood(self):\r\n",
        "    K = self.fit()\r\n",
        "    K_inv = torch.inverse(K)\r\n",
        "    K_inv.retain_grad()\r\n",
        "    #print(K_inv)\r\n",
        "    likelihood = -torch.log(K) - K_inv.mv(self.y_train).dot(self.y_train)\r\n",
        "    likelihood.retain_grad()\r\n",
        "    S = -likelihood.mean()\r\n",
        "    #print(likelihood)\r\n",
        "    S.retain_grad()\r\n",
        "    return S\r\n",
        "\r\n",
        "  def predict(self, x_test):\r\n",
        "    self.K = self.fit()\r\n",
        "    self.K_inv = torch.inverse(self.K)\r\n",
        "    self.yy = self.K_inv.mv(self.y_train)\r\n",
        "    k_ = torch.tensor(np.array([[ self.kernel(x, x_test, self.theta1, self.theta2, self.theta3) for x in self.x_train ]]).astype(np.float32), dtype=torch.float32).reshape(self.N)\r\n",
        "    k__ = torch.tensor(self.kernel(x_test, x_test, self.theta1, self.theta2, self.theta3))\r\n",
        "    #k__ = self.kernel(x_test, x_test)\r\n",
        "    mu = k_.dot(self.yy)\r\n",
        "    sig = k__ - k_.dot( self.K_inv.mv(k_) )\r\n",
        "    return [mu+self.y_mean, sig]\r\n",
        "  \r\n",
        "  def fit(self):\r\n",
        "    K = torch.zeros((self.N,self.N))\r\n",
        "    for i in range(self.N):\r\n",
        "      for j in range(self.N):\r\n",
        "        K[i][j] = self.kernel( x_train[i], x_train[j] ,self.theta1, self.theta2, self.theta3)\r\n",
        "        K[i][j].retain_grad()\r\n",
        "    return K\r\n",
        "\r\n"
      ],
      "execution_count": null,
      "outputs": []
    },
    {
      "cell_type": "code",
      "metadata": {
        "id": "Z41acmUDBKn-"
      },
      "source": [
        "def kgauss(xi,xj,theta1=1.0, theta2=0.4, theta3=0.1):\r\n",
        "  z = torch.exp(- (xi - xj)*(xi - xj)) \r\n",
        "  y = torch.exp(theta1) * z / torch.exp(theta2) + torch.exp(theta3) * torch.tensor( xi == xj)\r\n",
        "  return y"
      ],
      "execution_count": null,
      "outputs": []
    },
    {
      "cell_type": "code",
      "metadata": {
        "colab": {
          "base_uri": "https://localhost:8080/"
        },
        "id": "w3F15uER-Nhk",
        "outputId": "dc417393-8802-460e-f455-30c33a206bc7"
      },
      "source": [
        "type(x_index[1])"
      ],
      "execution_count": null,
      "outputs": [
        {
          "output_type": "execute_result",
          "data": {
            "text/plain": [
              "torch.Tensor"
            ]
          },
          "metadata": {
            "tags": []
          },
          "execution_count": 27
        }
      ]
    },
    {
      "cell_type": "code",
      "metadata": {
        "id": "Y8hxQkjc-NFg"
      },
      "source": [
        ""
      ],
      "execution_count": null,
      "outputs": []
    },
    {
      "cell_type": "code",
      "metadata": {
        "id": "DFiWVMLv4Imk",
        "colab": {
          "base_uri": "https://localhost:8080/"
        },
        "outputId": "fd578032-a136-4f78-e025-7a9a8ac9c894"
      },
      "source": [
        "model = KernelRegresson_paramOpt(kgauss, x_train, y_train)\r\n",
        "model.cuda()\r\n",
        "optimizer = torch.optim.SGD(params=[model.theta1, model.theta2, model.theta3], lr=1e-2)\r\n",
        "\r\n",
        "his = {'loss':[], 'theta1':[], 'theta2':[], 'theta3':[] }\r\n",
        "\r\n",
        "for i in range(300):\r\n",
        "  optimizer.zero_grad()\r\n",
        "  loss = model.log_likelihood()\r\n",
        "  loss.backward()\r\n",
        "  optimizer.step()\r\n",
        "  his['theta1'].append(model.theta1)\r\n",
        "  his['theta2'].append(model.theta2)\r\n",
        "  his['theta3'].append(model.theta3)\r\n",
        "  his['loss'].append(loss)\r\n",
        "  if (i+1)%100 == 0:\r\n",
        "    print(loss)"
      ],
      "execution_count": null,
      "outputs": [
        {
          "output_type": "stream",
          "text": [
            "tensor(0.5000, requires_grad=True)\n",
            "tensor(0.5000, requires_grad=True)\n",
            "tensor(0.5000, requires_grad=True)\n"
          ],
          "name": "stdout"
        },
        {
          "output_type": "stream",
          "text": [
            "/usr/local/lib/python3.6/dist-packages/ipykernel_launcher.py:3: UserWarning: To copy construct from a tensor, it is recommended to use sourceTensor.clone().detach() or sourceTensor.clone().detach().requires_grad_(True), rather than torch.tensor(sourceTensor).\n",
            "  This is separate from the ipykernel package so we can avoid doing imports until\n"
          ],
          "name": "stderr"
        },
        {
          "output_type": "stream",
          "text": [
            "tensor(-1.4742, grad_fn=<NegBackward>)\n",
            "tensor(-3.4714, grad_fn=<NegBackward>)\n",
            "tensor(-5.2611, grad_fn=<NegBackward>)\n"
          ],
          "name": "stdout"
        }
      ]
    },
    {
      "cell_type": "code",
      "metadata": {
        "colab": {
          "base_uri": "https://localhost:8080/"
        },
        "id": "VxUpXxLBXdjT",
        "outputId": "4e35d724-04ae-492f-ed77-3975f63299cd"
      },
      "source": [
        "model.theta2"
      ],
      "execution_count": null,
      "outputs": [
        {
          "output_type": "execute_result",
          "data": {
            "text/plain": [
              "tensor(27.0410, requires_grad=True)"
            ]
          },
          "metadata": {
            "tags": []
          },
          "execution_count": 14
        }
      ]
    },
    {
      "cell_type": "code",
      "metadata": {
        "colab": {
          "base_uri": "https://localhost:8080/",
          "height": 500
        },
        "id": "ji1PU8bhR-nD",
        "outputId": "6f2d7d7f-212c-4d8b-a327-6e9347a30919"
      },
      "source": [
        "fig = plt.figure(figsize=(12,8))\r\n",
        "for i, (key, values) in enumerate(his.items()):\r\n",
        "  ax = fig.add_subplot(2,2,i+1)\r\n",
        "  ax.plot(his[key])\r\n",
        "  ax.set_title(f'{key}')\r\n",
        "\r\n",
        "plt.show()"
      ],
      "execution_count": null,
      "outputs": [
        {
          "output_type": "display_data",
          "data": {
            "image/png": "[encoded data removed]",
            "text/plain": [
              "<Figure size 864x576 with 4 Axes>"
            ]
          },
          "metadata": {
            "tags": []
          }
        }
      ]
    },
    {
      "cell_type": "markdown",
      "metadata": {
        "id": "CdYKTj3dBMO8"
      },
      "source": [
        "## 最適化がうまくいかなかった図3.22"
      ]
    },
    {
      "cell_type": "code",
      "metadata": {
        "colab": {
          "base_uri": "https://localhost:8080/",
          "height": 356
        },
        "id": "tsvR_YyPTBMM",
        "outputId": "c58aaf09-fa78-4daf-ee5c-d0a55314e758"
      },
      "source": [
        "pred_mean_std = torch.tensor(np.array([model.predict(x) for x in x_index]).astype(np.float32))\r\n",
        "pred_mean = pred_mean_std[:,0]\r\n",
        "pred_std = pred_mean_std[:,1]\r\n",
        "\r\n",
        "plt.scatter(x_train, y_train)\r\n",
        "plt.plot(x_index, pred_mean)\r\n",
        "#plt.fill_between(x_index, pred_mean - pred_std, pred_mean + pred_std, alpha=0.2)"
      ],
      "execution_count": null,
      "outputs": [
        {
          "output_type": "stream",
          "text": [
            "/usr/local/lib/python3.6/dist-packages/ipykernel_launcher.py:3: UserWarning: To copy construct from a tensor, it is recommended to use sourceTensor.clone().detach() or sourceTensor.clone().detach().requires_grad_(True), rather than torch.tensor(sourceTensor).\n",
            "  This is separate from the ipykernel package so we can avoid doing imports until\n",
            "/usr/local/lib/python3.6/dist-packages/ipykernel_launcher.py:39: UserWarning: To copy construct from a tensor, it is recommended to use sourceTensor.clone().detach() or sourceTensor.clone().detach().requires_grad_(True), rather than torch.tensor(sourceTensor).\n"
          ],
          "name": "stderr"
        },
        {
          "output_type": "execute_result",
          "data": {
            "text/plain": [
              "[<matplotlib.lines.Line2D at 0x7f99f0236e10>]"
            ]
          },
          "metadata": {
            "tags": []
          },
          "execution_count": 43
        },
        {
          "output_type": "display_data",
          "data": {
            "image/png": "[encoded data removed]",
            "text/plain": [
              "<Figure size 432x288 with 1 Axes>"
            ]
          },
          "metadata": {
            "tags": []
          }
        }
      ]
    },
    {
      "cell_type": "code",
      "metadata": {
        "id": "Zgex6M1kAqjp"
      },
      "source": [
        "class KernelRegresson_paramOpt(nn.Module):\r\n",
        "  def __init__(self, kernel, x_train, y_train):\r\n",
        "    super(KernelRegresson_paramOpt, self).__init__()\r\n",
        "    self.kernel = kernel\r\n",
        "    self.x_train = x_train.clone()\r\n",
        "    self.y_train = y_train.clone() - y_train.mean()\r\n",
        "    self.y_mean = y_train.mean().clone()\r\n",
        "    self.N = len(x_train)\r\n",
        "    self.theta1 = Variable(torch.tensor(1.5), requires_grad=True)\r\n",
        "    self.theta2 = Variable(torch.tensor(2.0), requires_grad=True)\r\n",
        "    self.theta3 = Variable(torch.tensor(0.5), requires_grad=True)\r\n",
        "    print(self.theta1)\r\n",
        "    print(self.theta2)\r\n",
        "    print(self.theta3)\r\n",
        "    self.K = torch.zeros((self.N,self.N))\r\n",
        "    \r\n",
        "\r\n",
        "  def forward(self):\r\n",
        "    self.fit()\r\n",
        "    return dist.multivariate_normal(torch.zeros(self.N), self.K)\r\n",
        "  \r\n",
        "  def log_likelihood(self):\r\n",
        "    K = self.fit()\r\n",
        "    K_inv = torch.inverse(K)\r\n",
        "    K_inv.retain_grad()\r\n",
        "    #print(K_inv)\r\n",
        "    likelihood = -torch.log(K) - K_inv.mv(self.y_train).dot(self.y_train)\r\n",
        "    likelihood.retain_grad()\r\n",
        "    S = -likelihood.mean()\r\n",
        "    #print(likelihood)\r\n",
        "    S.retain_grad()\r\n",
        "    return S\r\n",
        "\r\n",
        "  def predict(self, x_test):\r\n",
        "    self.K = self.fit()\r\n",
        "    self.K_inv = torch.inverse(self.K)\r\n",
        "    self.yy = self.K_inv.mv(self.y_train)\r\n",
        "    k_ = torch.tensor(np.array([[ self.kernel(x, x_test, self.theta1, self.theta2, self.theta3) for x in self.x_train ]]).astype(np.float32), dtype=torch.float32).reshape(self.N)\r\n",
        "    k__ = torch.tensor(self.kernel(x_test, x_test, self.theta1, self.theta2, self.theta3))\r\n",
        "    #k__ = self.kernel(x_test, x_test)\r\n",
        "    mu = k_.dot(self.yy)\r\n",
        "    sig = k__ - k_.dot( self.K_inv.mv(k_) )\r\n",
        "    return [mu+self.y_mean, sig]\r\n",
        "  \r\n",
        "  def fit(self):\r\n",
        "    K = torch.zeros((self.N,self.N))\r\n",
        "    for i in range(self.N):\r\n",
        "      for j in range(self.N):\r\n",
        "        K[i][j] = self.kernel( x_train[i], x_train[j] ,self.theta1, self.theta2, self.theta3)\r\n",
        "        K[i][j].retain_grad()\r\n",
        "    return K\r\n"
      ],
      "execution_count": null,
      "outputs": []
    },
    {
      "cell_type": "code",
      "metadata": {
        "colab": {
          "base_uri": "https://localhost:8080/"
        },
        "id": "f3Te3DIyA1WK",
        "outputId": "2e70d4ab-21fc-44b2-8c3d-c11c797388d6"
      },
      "source": [
        "model = KernelRegresson_paramOpt(kgauss, x_train, y_train)\r\n",
        "model.cuda()\r\n",
        "optimizer = torch.optim.SGD(params=[model.theta1, model.theta2, model.theta3], lr=1e-5)\r\n",
        "\r\n",
        "his = {'loss':[], 'theta1':[], 'theta2':[], 'theta3':[] }\r\n",
        "\r\n",
        "for i in range(3000):\r\n",
        "  optimizer.zero_grad()\r\n",
        "  loss = model.log_likelihood()\r\n",
        "  loss.backward()\r\n",
        "  optimizer.step()\r\n",
        "  his['theta1'].append(model.theta1)\r\n",
        "  his['theta2'].append(model.theta2)\r\n",
        "  his['theta3'].append(model.theta3)\r\n",
        "  his['loss'].append(loss)\r\n",
        "  if (i+1)%100 == 0:\r\n",
        "    print(f'{i+1}:{loss}')"
      ],
      "execution_count": null,
      "outputs": [
        {
          "output_type": "stream",
          "text": [
            "tensor(1.5000, requires_grad=True)\n",
            "tensor(2., requires_grad=True)\n",
            "tensor(0.5000, requires_grad=True)\n"
          ],
          "name": "stdout"
        },
        {
          "output_type": "stream",
          "text": [
            "/usr/local/lib/python3.6/dist-packages/ipykernel_launcher.py:3: UserWarning: To copy construct from a tensor, it is recommended to use sourceTensor.clone().detach() or sourceTensor.clone().detach().requires_grad_(True), rather than torch.tensor(sourceTensor).\n",
            "  This is separate from the ipykernel package so we can avoid doing imports until\n"
          ],
          "name": "stderr"
        },
        {
          "output_type": "stream",
          "text": [
            "100:0.12535643577575684\n",
            "200:0.12278024852275848\n",
            "300:0.12020516395568848\n",
            "400:0.11763553321361542\n",
            "500:0.11506907641887665\n",
            "600:0.11250298470258713\n",
            "700:0.10993827879428864\n",
            "800:0.10737467557191849\n",
            "900:0.10481060296297073\n",
            "1000:0.10225618630647659\n",
            "1100:0.09970392286777496\n",
            "1200:0.09715312719345093\n",
            "1300:0.09460282325744629\n",
            "1400:0.09205391258001328\n",
            "1500:0.08950655162334442\n",
            "1600:0.08696971833705902\n",
            "1700:0.0844326764345169\n",
            "1800:0.08189603686332703\n",
            "1900:0.07936042547225952\n",
            "2000:0.07682523131370544\n",
            "2100:0.07429327070713043\n",
            "2200:0.07176671922206879\n",
            "2300:0.06924071162939072\n",
            "2400:0.06671517342329025\n",
            "2500:0.06419109553098679\n",
            "2600:0.06166737899184227\n",
            "2700:0.05914333462715149\n",
            "2800:0.056629475206136703\n",
            "2900:0.05411667749285698\n",
            "3000:0.051604870706796646\n"
          ],
          "name": "stdout"
        }
      ]
    },
    {
      "cell_type": "code",
      "metadata": {
        "colab": {
          "base_uri": "https://localhost:8080/",
          "height": 500
        },
        "id": "Oyftpx7JA2j2",
        "outputId": "c3ba3424-14d2-4d8f-a094-5aaa6ecb9f87"
      },
      "source": [
        "fig = plt.figure(figsize=(12,8))\r\n",
        "for i, (key, values) in enumerate(his.items()):\r\n",
        "  ax = fig.add_subplot(2,2,i+1)\r\n",
        "  ax.plot(his[key])\r\n",
        "  ax.set_title(f'{key}')\r\n",
        "\r\n",
        "plt.show()"
      ],
      "execution_count": null,
      "outputs": [
        {
          "output_type": "display_data",
          "data": {
            "image/png": "[encoded data removed]",
            "text/plain": [
              "<Figure size 864x576 with 4 Axes>"
            ]
          },
          "metadata": {
            "tags": []
          }
        }
      ]
    },
    {
      "cell_type": "code",
      "metadata": {
        "colab": {
          "base_uri": "https://localhost:8080/",
          "height": 353
        },
        "id": "Bg9xMV-OA9ec",
        "outputId": "10321a3d-b11f-44b4-ed80-d649c6687283"
      },
      "source": [
        "pred_mean_std = torch.tensor(np.array([model.predict(x) for x in x_index]).astype(np.float32))\r\n",
        "pred_mean = pred_mean_std[:,0]\r\n",
        "pred_std = pred_mean_std[:,1]\r\n",
        "\r\n",
        "plt.scatter(x_train, y_train)\r\n",
        "plt.plot(x_index, pred_mean)\r\n",
        "plt.fill_between(x_index, pred_mean - torch.sqrt(pred_std), pred_mean + torch.sqrt(pred_std), alpha=0.2)"
      ],
      "execution_count": null,
      "outputs": [
        {
          "output_type": "stream",
          "text": [
            "/usr/local/lib/python3.6/dist-packages/ipykernel_launcher.py:3: UserWarning: To copy construct from a tensor, it is recommended to use sourceTensor.clone().detach() or sourceTensor.clone().detach().requires_grad_(True), rather than torch.tensor(sourceTensor).\n",
            "  This is separate from the ipykernel package so we can avoid doing imports until\n",
            "/usr/local/lib/python3.6/dist-packages/ipykernel_launcher.py:39: UserWarning: To copy construct from a tensor, it is recommended to use sourceTensor.clone().detach() or sourceTensor.clone().detach().requires_grad_(True), rather than torch.tensor(sourceTensor).\n"
          ],
          "name": "stderr"
        },
        {
          "output_type": "execute_result",
          "data": {
            "text/plain": [
              "<matplotlib.collections.PolyCollection at 0x7f99e7219550>"
            ]
          },
          "metadata": {
            "tags": []
          },
          "execution_count": 59
        },
        {
          "output_type": "display_data",
          "data": {
            "image/png": "[encoded data removed]",
            "text/plain": [
              "<Figure size 432x288 with 1 Axes>"
            ]
          },
          "metadata": {
            "tags": []
          }
        }
      ]
    }
  ]
}